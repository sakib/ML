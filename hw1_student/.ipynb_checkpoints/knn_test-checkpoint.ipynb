{
 "cells": [
  {
   "cell_type": "markdown",
   "metadata": {},
   "source": [
    "# k-Nearest Neighbor TEST(KNN) \n"
   ]
  },
  {
   "cell_type": "code",
   "execution_count": 1,
   "metadata": {
    "collapsed": false
   },
   "outputs": [],
   "source": [
    "\n",
    "# Train and Test data load\n",
    "import pickle\n",
    "import numpy as np\n",
    "\n",
    "train_data = pickle.load(open( \"train.pkl\", \"rb\" ))\n",
    "test_data=pickle.load(open(\"test.pkl\",\"rb\"))\n",
    "\n"
   ]
  },
  {
   "cell_type": "code",
   "execution_count": 2,
   "metadata": {
    "collapsed": false
   },
   "outputs": [],
   "source": [
    "#Fixed_parameters: Please do not change the fixed parameters\n",
    "\n",
    "val_ratio  = 0.2\n",
    "\n",
    "categories = [\n",
    "        'alt.atheism',\n",
    "        'talk.religion.misc',\n",
    "        'comp.graphics',\n",
    "        'sci.space',\n",
    "    ]\n",
    "\n",
    "#student_parameters\n",
    "#You may want to change these in your experiment later.\n",
    "train_ratio= 1.0 # we split the train_data into 0.8:training\n",
    "\n",
    "\n"
   ]
  },
  {
   "cell_type": "code",
   "execution_count": 3,
   "metadata": {
    "collapsed": true
   },
   "outputs": [],
   "source": [
    "#Split Train data into Train and Validation (Ratio Train : Val = 4:1)\n",
    "train_num = int(train_data['data'].shape[0]*train_ratio*(1.0-val_ratio)) \n",
    "val_num = -1*int(train_data['data'].shape[0]*train_ratio*val_ratio)\n",
    "test_num = test_data['data'].shape[0]"
   ]
  },
  {
   "cell_type": "code",
   "execution_count": 4,
   "metadata": {
    "collapsed": false
   },
   "outputs": [],
   "source": [
    "# Please implement Classifier in the file : k_nearest_neighbor.py\n",
    "from cs536_1.models import KNearestNeighbor\n",
    "KNN_classifier = KNearestNeighbor()\n",
    "KNN_classifier.train(train_data['data'][:train_num], train_data['target'][:train_num])"
   ]
  },
  {
   "cell_type": "markdown",
   "metadata": {},
   "source": [
    "# Please implement predict"
   ]
  },
  {
   "cell_type": "code",
   "execution_count": 5,
   "metadata": {
    "collapsed": false
   },
   "outputs": [
    {
     "name": "stdout",
     "output_type": "stream",
     "text": [
      "For K= 1 and train_ratio= 0.200000, Got 1049 / 1353 correct => VAL_accuracy: 0.775314\n",
      "For K= 3 and train_ratio= 0.200000, Got 1063 / 1353 correct => VAL_accuracy: 0.785661\n",
      "For K= 5 and train_ratio= 0.200000, Got 1081 / 1353 correct => VAL_accuracy: 0.798965\n",
      "For K= 8 and train_ratio= 0.200000, Got 1102 / 1353 correct => VAL_accuracy: 0.814486\n",
      "For K= 10 and train_ratio= 0.200000, Got 1111 / 1353 correct => VAL_accuracy: 0.821138\n",
      "For K= 12 and train_ratio= 0.200000, Got 1108 / 1353 correct => VAL_accuracy: 0.818921\n",
      "For K= 15 and train_ratio= 0.200000, Got 1118 / 1353 correct => VAL_accuracy: 0.826312\n",
      "For K= 20 and train_ratio= 0.200000, Got 1113 / 1353 correct => VAL_accuracy: 0.822616\n",
      "For K= 50 and train_ratio= 0.200000, Got 1087 / 1353 correct => VAL_accuracy: 0.803400\n",
      "For K= 100 and train_ratio= 0.200000, Got 1064 / 1353 correct => VAL_accuracy: 0.786401\n"
     ]
    }
   ],
   "source": [
    "#For the different K, compute the validation accuracies.\n",
    "#Please implement the predict_labels()\n",
    "k_choices = [1, 3, 5, 7, 9, 11, 15, 19]\n",
    "for k in k_choices:\n",
    "    y_test_pred = KNN_classifier.predict(test_data['data'],k)\n",
    "    num_correct = np.sum(y_test_pred == test_data['target'])\n",
    "    accuracy = float(num_correct) / (test_num)\n",
    "    print('For K= %d and train_ratio= %f, Got %d / %d correct => VAL_accuracy: %f'\n",
    "          % (k,train_ratio,num_correct,test_num, accuracy)) "
   ]
  },
  {
   "cell_type": "code",
   "execution_count": null,
   "metadata": {
    "collapsed": true
   },
   "outputs": [],
   "source": []
  },
  {
   "cell_type": "code",
   "execution_count": null,
   "metadata": {
    "collapsed": true
   },
   "outputs": [],
   "source": []
  }
 ],
 "metadata": {
  "anaconda-cloud": {},
  "kernelspec": {
   "display_name": "Python [Root]",
   "language": "python",
   "name": "Python [Root]"
  },
  "language_info": {
   "codemirror_mode": {
    "name": "ipython",
    "version": 2
   },
   "file_extension": ".py",
   "mimetype": "text/x-python",
   "name": "python",
   "nbconvert_exporter": "python",
   "pygments_lexer": "ipython2",
   "version": "2.7.10"
  }
 },
 "nbformat": 4,
 "nbformat_minor": 0
}
