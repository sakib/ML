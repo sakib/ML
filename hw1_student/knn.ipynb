{
 "cells": [
  {
   "cell_type": "markdown",
   "metadata": {},
   "source": [
    "# k-Nearest Neighbor (KNN) \n"
   ]
  },
  {
   "cell_type": "code",
   "execution_count": 1,
   "metadata": {},
   "outputs": [],
   "source": [
    "# Train and Test data load\n",
    "import pickle\n",
    "import numpy as np\n",
    "\n",
    "train_data = pickle.load(open( \"train.pkl\", \"rb\" ))\n"
   ]
  },
  {
   "cell_type": "code",
   "execution_count": 2,
   "metadata": {},
   "outputs": [],
   "source": [
    "#Fixed_parameters\n",
    "#Please do not change the fixed parameters\n",
    "\n",
    "val_ratio = 0.2\n",
    "\n",
    "#student_parameters\n",
    "#You may want to change these in your experiment later.\n",
    "train_ratio = 0.9  # we split the train_data into 0.8:training\n",
    "\n",
    "\n"
   ]
  },
  {
   "cell_type": "code",
   "execution_count": 3,
   "metadata": {},
   "outputs": [
    {
     "name": "stdout",
     "output_type": "stream",
     "text": [
      "1464 -366\n"
     ]
    }
   ],
   "source": [
    "#Split Train data into Train and Validation (Ratio Train : Val = 4:1)\n",
    "train_num = int(train_data['data'].shape[0]*train_ratio*(1.0-val_ratio)) \n",
    "val_num = -1*int(train_data['data'].shape[0]*train_ratio*val_ratio)\n",
    "print(train_num, val_num)"
   ]
  },
  {
   "cell_type": "code",
   "execution_count": 4,
   "metadata": {},
   "outputs": [],
   "source": [
    "# Please implement Classifier in the file : k_nearest_neighbor.py\n",
    "from cs536_1.models import KNearestNeighbor\n",
    "KNN_classifier = KNearestNeighbor()\n",
    "KNN_classifier.train(train_data['data'][:train_num], train_data['target'][:train_num])"
   ]
  },
  {
   "cell_type": "markdown",
   "metadata": {},
   "source": [
    "# Please implement the compute_distance"
   ]
  },
  {
   "cell_type": "code",
   "execution_count": 5,
   "metadata": {},
   "outputs": [],
   "source": [
    "# Please implement compute_distances() in the file : k_nearest_neighbor.py\n",
    "dists=KNN_classifier.compute_distances(train_data['data'][val_num:,:])"
   ]
  },
  {
   "cell_type": "markdown",
   "metadata": {},
   "source": [
    "# Please implement the predict_labels "
   ]
  },
  {
   "cell_type": "code",
   "execution_count": 6,
   "metadata": {},
   "outputs": [
    {
     "name": "stdout",
     "output_type": "stream",
     "text": [
      "For K= 1 and train_ratio= 0.900000, Got 343 / 366 correct => VAL_accuracy: 0.937158\n",
      "For K= 3 and train_ratio= 0.900000, Got 340 / 366 correct => VAL_accuracy: 0.928962\n",
      "For K= 5 and train_ratio= 0.900000, Got 338 / 366 correct => VAL_accuracy: 0.923497\n",
      "For K= 7 and train_ratio= 0.900000, Got 334 / 366 correct => VAL_accuracy: 0.912568\n",
      "For K= 9 and train_ratio= 0.900000, Got 331 / 366 correct => VAL_accuracy: 0.904372\n",
      "For K= 11 and train_ratio= 0.900000, Got 328 / 366 correct => VAL_accuracy: 0.896175\n",
      "For K= 15 and train_ratio= 0.900000, Got 331 / 366 correct => VAL_accuracy: 0.904372\n",
      "For K= 19 and train_ratio= 0.900000, Got 330 / 366 correct => VAL_accuracy: 0.901639\n"
     ]
    }
   ],
   "source": [
    "#For the different K, compute the validation accuracies.\n",
    "#Please implement the predict_labels()\n",
    "k_choices = [1, 3, 5, 7, 9, 11, 15, 19]\n",
    "for k in k_choices:\n",
    "    y_test_pred = KNN_classifier.predict_labels(dists,k)\n",
    "    num_correct = np.sum(y_test_pred == train_data['target'][val_num:])\n",
    "    accuracy = float(num_correct) / (-1*val_num)\n",
    "    print('For K= %d and train_ratio= %f, Got %d / %d correct => VAL_accuracy: %f'\n",
    "          % (k,train_ratio,num_correct,-1*val_num, accuracy))"
   ]
  },
  {
   "cell_type": "code",
   "execution_count": null,
   "metadata": {},
   "outputs": [],
   "source": []
  },
  {
   "cell_type": "code",
   "execution_count": null,
   "metadata": {},
   "outputs": [],
   "source": []
  },
  {
   "cell_type": "code",
   "execution_count": null,
   "metadata": {},
   "outputs": [],
   "source": []
  },
  {
   "cell_type": "code",
   "execution_count": null,
   "metadata": {},
   "outputs": [],
   "source": []
  }
 ],
 "metadata": {
  "anaconda-cloud": {},
  "kernelspec": {
   "display_name": "Python 3",
   "language": "python",
   "name": "python3"
  },
  "language_info": {
   "codemirror_mode": {
    "name": "ipython",
    "version": 3
   },
   "file_extension": ".py",
   "mimetype": "text/x-python",
   "name": "python",
   "nbconvert_exporter": "python",
   "pygments_lexer": "ipython3",
   "version": "3.4.5"
  }
 },
 "nbformat": 4,
 "nbformat_minor": 1
}
